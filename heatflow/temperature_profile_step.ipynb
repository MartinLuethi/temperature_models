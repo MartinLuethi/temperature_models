{
 "cells": [
  {
   "cell_type": "code",
   "execution_count": 8,
   "metadata": {
    "autoscroll": "json-false",
    "collapsed": false,
    "ein.tags": [
     "worksheet-0"
    ]
   },
   "outputs": [
    {
     "data": {
      "text/latex": [
       "This Notebook plots the solutions to the heat flow equation with step forcing at the surface\n",
       "\\[\n",
       "  T(h, t) = T(h, 0) + \\Delta T(h, t) = \\Delta T_0 \\,\\mathrm{erfc}\\left( \\frac{h}{2 \\sqrt{\\kappa t}}\\right)\n",
       "\\]"
      ],
      "text/plain": [
       "<IPython.core.display.Latex object>"
      ]
     },
     "metadata": {},
     "output_type": "display_data"
    }
   ],
   "source": [
    "%%latex \n",
    "This Notebook plots the solutions to the heat flow equation with step forcing at the surface\n",
    "\\[\n",
    "  T(h, t) = T(h, 0) + \\Delta T(h, t) = T(h,0) + \\Delta T_0 \\,\\mathrm{erfc}\\left( \\frac{h}{2 \\sqrt{\\kappa t}}\\right)\n",
    "\\]\n"
   ]
  },
  {
   "cell_type": "code",
   "execution_count": 5,
   "metadata": {
    "autoscroll": "json-false",
    "collapsed": false,
    "ein.tags": [
     "worksheet-0"
    ]
   },
   "outputs": [
    {
     "data": {
      "image/png": "[encoded data removed]",
      "text/plain": [
       "<matplotlib.figure.Figure at 0x7f12e81ff518>"
      ]
     },
     "metadata": {},
     "output_type": "display_data"
    },
    {
     "data": {
      "text/plain": [
       "<function __main__.plotfun>"
      ]
     },
     "execution_count": 5,
     "metadata": {},
     "output_type": "execute_result"
    }
   ],
   "source": [
    "%matplotlib inline\n",
    "import ipywidgets as ipw\n",
    "import numpy as np\n",
    "from scipy.special import erfc\n",
    "import pylab as plt\n",
    "\n",
    "tmax = 600.  # days\n",
    "hmax = 20.\n",
    "dT0  = 0.5\n",
    "\n",
    "hs = np.linspace(0, hmax, 50)\n",
    "\n",
    "def plotfun(t, rho, C, k):\n",
    "    kappa = k/(rho*C) * 24. * 3600.   # our time unit is day\n",
    "\n",
    "    dT = dT0 * erfc( hs / (2. * np.sqrt(kappa*(t+1.e-10))))\n",
    "    \n",
    "    plt.figure(figsize=(10,10))\n",
    "    plt.plot(dT, -hs, 'r')\n",
    "    plt.plot([0,0], [-hmax,0], 'k--')\n",
    "    plt.xlim(-0.1*dT0, 1.1*dT0)  \n",
    "    plt.ylim(-hmax,1)\n",
    "    plt.ylabel('Depth (m)')\n",
    "    plt.xlabel('Temperature ($^\\circ$C)')\n",
    "    \n",
    "    plt.show()\n",
    "\n",
    "ipw.interact(plotfun, t=(1,tmax,5), rho=(500,2500,200), \n",
    "             k=(1.,4,0.5), C=(1000,3000,500))"
   ]
  }
 ],
 "metadata": {
  "kernelspec": {
   "display_name": "Python 3",
   "language": "python",
   "name": "python3"
  },
  "language_info": {
   "codemirror_mode": {
    "name": "ipython",
    "version": 3
   },
   "file_extension": ".py",
   "mimetype": "text/x-python",
   "name": "python",
   "nbconvert_exporter": "python",
   "pygments_lexer": "ipython3",
   "version": "3.5.1"
  },
  "name": "temperature_profile_step.ipynb"
 },
 "nbformat": 4,
 "nbformat_minor": 0
}
